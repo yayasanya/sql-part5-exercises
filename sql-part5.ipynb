{
    "metadata": {
        "kernelspec": {
            "name": "SQL",
            "display_name": "SQL",
            "language": "sql"
        },
        "language_info": {
            "name": "sql",
            "version": ""
        }
    },
    "nbformat_minor": 2,
    "nbformat": 4,
    "cells": [
        {
            "cell_type": "markdown",
            "source": [
                "# Exercises: Creating, Updating, and Destroying Objects\n",
                "\n",
                "For the exercises, you will be working with objects and data you create. Before opening this notebook, make sure that you have set up the new connection to the server and that you have located the database and your schema.\n",
                "\n",
                "## Object Creation\n",
                "\n",
                "Before coding, think of three things you want to make. These could be coding projects, new recipes, or planned projects for a woodworking hobby. Brainstorm the appropriate column names and data types as well.\n",
                "\n",
                "Create a table under your schema called `planned_makes`."
            ],
            "metadata": {
                "azdata_cell_guid": "9d51c166-0c19-4f27-a422-2a6cf596bfb2"
            },
            "attachments": {}
        },
        {
            "cell_type": "code",
            "source": [
                "CREATE TABLE JunkDB_STL_May2023.alexs.planned_makes(\n",
                "    project_name VARCHAR(25),\n",
                "    yarn_type VARCHAR(25),\n",
                "    yarn_usage INT,\n",
                "    yarn_weight VARCHAR (25)\n",
                ")"
            ],
            "metadata": {
                "azdata_cell_guid": "d9238911-6f81-4f01-980d-b584307effaf",
                "language": "sql"
            },
            "outputs": [
                {
                    "output_type": "display_data",
                    "data": {
                        "text/html": "Commands completed successfully."
                    },
                    "metadata": {}
                },
                {
                    "output_type": "display_data",
                    "data": {
                        "text/html": "Total execution time: 00:00:00.046"
                    },
                    "metadata": {}
                }
            ],
            "execution_count": 3
        },
        {
            "cell_type": "markdown",
            "source": [
                "Add three rows to your table that are your planned makes."
            ],
            "metadata": {
                "azdata_cell_guid": "83cdf34d-8c4f-4fa1-a14e-77384b19d734"
            }
        },
        {
            "cell_type": "code",
            "source": [
                "INSERT INTO JunkDB_STL_May2023.alexs.planned_makes (project_name,yarn_type,yarn_usage,yarn_weight)\n",
                "VALUES ('sweater', 'wool superwashd','400', 'bulky'),\n",
                "('hat','wool blend','50','medium'),\n",
                "('shawl','merino wool', '100','super fine')"
            ],
            "metadata": {
                "azdata_cell_guid": "e7cff9cb-87ba-4c7b-98f2-eaf445e8719c",
                "language": "sql",
                "tags": []
            },
            "outputs": [
                {
                    "output_type": "display_data",
                    "data": {
                        "text/html": "(3 rows affected)"
                    },
                    "metadata": {}
                },
                {
                    "output_type": "display_data",
                    "data": {
                        "text/html": "Total execution time: 00:00:00.046"
                    },
                    "metadata": {}
                }
            ],
            "execution_count": 7
        },
        {
            "cell_type": "code",
            "source": [
                "SELECT * FROM JunkDB_STL_May2023.alexs.planned_makes"
            ],
            "metadata": {
                "language": "sql",
                "azdata_cell_guid": "b47692fe-fce5-418a-bcdc-3d73dcf4ff85"
            },
            "outputs": [
                {
                    "output_type": "display_data",
                    "data": {
                        "text/html": "(3 rows affected)"
                    },
                    "metadata": {}
                },
                {
                    "output_type": "display_data",
                    "data": {
                        "text/html": "Total execution time: 00:00:00.045"
                    },
                    "metadata": {}
                },
                {
                    "output_type": "execute_result",
                    "metadata": {},
                    "execution_count": 8,
                    "data": {
                        "application/vnd.dataresource+json": {
                            "schema": {
                                "fields": [
                                    {
                                        "name": "project_name"
                                    },
                                    {
                                        "name": "yarn_type"
                                    },
                                    {
                                        "name": "yarn_usage"
                                    },
                                    {
                                        "name": "yarn_weight"
                                    }
                                ]
                            },
                            "data": [
                                {
                                    "project_name": "sweater",
                                    "yarn_type": "wool superwashd",
                                    "yarn_usage": "400",
                                    "yarn_weight": "bulky"
                                },
                                {
                                    "project_name": "hat",
                                    "yarn_type": "wool blend",
                                    "yarn_usage": "50",
                                    "yarn_weight": "medium"
                                },
                                {
                                    "project_name": "shawl",
                                    "yarn_type": "merino wool",
                                    "yarn_usage": "100",
                                    "yarn_weight": "super fine"
                                }
                            ]
                        },
                        "text/html": [
                            "<table>",
                            "<tr><th>project_name</th><th>yarn_type</th><th>yarn_usage</th><th>yarn_weight</th></tr>",
                            "<tr><td>sweater</td><td>wool superwashd</td><td>400</td><td>bulky</td></tr>",
                            "<tr><td>hat</td><td>wool blend</td><td>50</td><td>medium</td></tr>",
                            "<tr><td>shawl</td><td>merino wool</td><td>100</td><td>super fine</td></tr>",
                            "</table>"
                        ]
                    }
                }
            ],
            "execution_count": 8
        },
        {
            "cell_type": "markdown",
            "source": [
                "## Update a Row\n",
                "\n",
                "Change different values in one of your three rows."
            ],
            "metadata": {
                "azdata_cell_guid": "4a39b8d4-ae97-4e09-8336-c5fc6a00d76c"
            },
            "attachments": {}
        },
        {
            "cell_type": "code",
            "source": [
                "UPDATE JunkDB_STL_May2023.alexs.planned_makes\n",
                "SET project_name='warm sweater'\n",
                "WHERE project_name LIKE '%sweater%'\n",
                "SELECT * FROM JunkDB_STL_May2023.alexs.planned_makes"
            ],
            "metadata": {
                "azdata_cell_guid": "7409c695-9581-4ad8-b03a-574d2c4c87cb",
                "language": "sql"
            },
            "outputs": [
                {
                    "output_type": "display_data",
                    "data": {
                        "text/html": "(1 row affected)"
                    },
                    "metadata": {}
                },
                {
                    "output_type": "display_data",
                    "data": {
                        "text/html": "(3 rows affected)"
                    },
                    "metadata": {}
                },
                {
                    "output_type": "display_data",
                    "data": {
                        "text/html": "Total execution time: 00:00:00.074"
                    },
                    "metadata": {}
                },
                {
                    "output_type": "execute_result",
                    "metadata": {},
                    "execution_count": 9,
                    "data": {
                        "application/vnd.dataresource+json": {
                            "schema": {
                                "fields": [
                                    {
                                        "name": "project_name"
                                    },
                                    {
                                        "name": "yarn_type"
                                    },
                                    {
                                        "name": "yarn_usage"
                                    },
                                    {
                                        "name": "yarn_weight"
                                    }
                                ]
                            },
                            "data": [
                                {
                                    "project_name": "warm sweater",
                                    "yarn_type": "wool superwashd",
                                    "yarn_usage": "400",
                                    "yarn_weight": "bulky"
                                },
                                {
                                    "project_name": "hat",
                                    "yarn_type": "wool blend",
                                    "yarn_usage": "50",
                                    "yarn_weight": "medium"
                                },
                                {
                                    "project_name": "shawl",
                                    "yarn_type": "merino wool",
                                    "yarn_usage": "100",
                                    "yarn_weight": "super fine"
                                }
                            ]
                        },
                        "text/html": [
                            "<table>",
                            "<tr><th>project_name</th><th>yarn_type</th><th>yarn_usage</th><th>yarn_weight</th></tr>",
                            "<tr><td>warm sweater</td><td>wool superwashd</td><td>400</td><td>bulky</td></tr>",
                            "<tr><td>hat</td><td>wool blend</td><td>50</td><td>medium</td></tr>",
                            "<tr><td>shawl</td><td>merino wool</td><td>100</td><td>super fine</td></tr>",
                            "</table>"
                        ]
                    }
                }
            ],
            "execution_count": 9
        },
        {
            "cell_type": "markdown",
            "source": [
                "## Delete a Row\n",
                "\n",
                "Delete one of the rows from your table."
            ],
            "metadata": {
                "azdata_cell_guid": "95e91a6e-9038-42d9-9401-5738842aba17"
            }
        },
        {
            "cell_type": "code",
            "source": [
                "DELETE FROM JunkDB_STL_May2023.alexs.planned_makes\n",
                "WHERE yarn_weight LIKE '%medium%'\n",
                "\n",
                "SELECT * FROM JunkDB_STL_May2023.alexs.planned_makes"
            ],
            "metadata": {
                "azdata_cell_guid": "749c748f-19b5-4c69-9004-b6b20216616a",
                "language": "sql"
            },
            "outputs": [
                {
                    "output_type": "display_data",
                    "data": {
                        "text/html": "(1 row affected)"
                    },
                    "metadata": {}
                },
                {
                    "output_type": "display_data",
                    "data": {
                        "text/html": "(2 rows affected)"
                    },
                    "metadata": {}
                },
                {
                    "output_type": "display_data",
                    "data": {
                        "text/html": "Total execution time: 00:00:00.052"
                    },
                    "metadata": {}
                },
                {
                    "output_type": "execute_result",
                    "metadata": {},
                    "execution_count": 10,
                    "data": {
                        "application/vnd.dataresource+json": {
                            "schema": {
                                "fields": [
                                    {
                                        "name": "project_name"
                                    },
                                    {
                                        "name": "yarn_type"
                                    },
                                    {
                                        "name": "yarn_usage"
                                    },
                                    {
                                        "name": "yarn_weight"
                                    }
                                ]
                            },
                            "data": [
                                {
                                    "project_name": "warm sweater",
                                    "yarn_type": "wool superwashd",
                                    "yarn_usage": "400",
                                    "yarn_weight": "bulky"
                                },
                                {
                                    "project_name": "shawl",
                                    "yarn_type": "merino wool",
                                    "yarn_usage": "100",
                                    "yarn_weight": "super fine"
                                }
                            ]
                        },
                        "text/html": [
                            "<table>",
                            "<tr><th>project_name</th><th>yarn_type</th><th>yarn_usage</th><th>yarn_weight</th></tr>",
                            "<tr><td>warm sweater</td><td>wool superwashd</td><td>400</td><td>bulky</td></tr>",
                            "<tr><td>shawl</td><td>merino wool</td><td>100</td><td>super fine</td></tr>",
                            "</table>"
                        ]
                    }
                }
            ],
            "execution_count": 10
        },
        {
            "cell_type": "markdown",
            "source": [
                "## Drop the Table\n",
                "\n",
                "While this has been fun, it is time to drop the table!"
            ],
            "metadata": {
                "azdata_cell_guid": "2239cb09-137b-4579-905b-1aa020793181"
            },
            "attachments": {}
        },
        {
            "cell_type": "code",
            "source": [
                "DROP TABLE JunkDB_STL_May2023.alexs.planned_makes"
            ],
            "metadata": {
                "azdata_cell_guid": "b3c7f6ea-ee26-46b3-9c2a-2f7a82c39699",
                "language": "sql"
            },
            "outputs": [
                {
                    "output_type": "display_data",
                    "data": {
                        "text/html": "Commands completed successfully."
                    },
                    "metadata": {}
                },
                {
                    "output_type": "display_data",
                    "data": {
                        "text/html": "Total execution time: 00:00:00.045"
                    },
                    "metadata": {}
                }
            ],
            "execution_count": 11
        }
    ]
}