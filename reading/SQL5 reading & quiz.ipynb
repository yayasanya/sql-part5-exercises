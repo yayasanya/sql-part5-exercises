{
    "metadata": {
        "kernelspec": {
            "name": "SQL",
            "display_name": "SQL",
            "language": "sql"
        },
        "language_info": {
            "name": "sql",
            "version": ""
        }
    },
    "nbformat_minor": 2,
    "nbformat": 4,
    "cells": [
        {
            "cell_type": "code",
            "source": [
                "\n",
                "CREATE TABLE JunkDB_STL_May2023.alexs.Recipes(\n",
                "    name VARCHAR(25),\n",
                "    description VARCHAR(50),\n",
                "    instructions VARCHAR(500),\n",
                "   )\n",
                "\n",
                ""
            ],
            "metadata": {
                "azdata_cell_guid": "e59cd1a9-b087-41c3-9dda-2690d46fc5e1",
                "language": "sql"
            },
            "outputs": [
                {
                    "output_type": "error",
                    "evalue": "Msg 2714, Level 16, State 6, Line 2\nThere is already an object named 'Recipes' in the database.",
                    "ename": "",
                    "traceback": []
                },
                {
                    "output_type": "display_data",
                    "data": {
                        "text/html": "Total execution time: 00:00:00.054"
                    },
                    "metadata": {}
                }
            ],
            "execution_count": 4
        },
        {
            "cell_type": "code",
            "source": [
                "INSERT INTO JunkDB_STL_May2023.alexs.Recipes (name, description, instructions)\n",
                "   VALUES ('Coffee','wake-up and Human', 'boil water....'),\n",
                "   ('Pizza', 'To lazy to cook but hungry', 'Call ModPizza and order for delivery'),\n",
                "   ('Pizza','Frozen','take pizza....'),\n",
                "   ('TatorTots','Frozen','place frozen....')"
            ],
            "metadata": {
                "language": "sql",
                "azdata_cell_guid": "a1202767-0386-4920-80b8-f7b3fd29cf42"
            },
            "outputs": [
                {
                    "output_type": "display_data",
                    "data": {
                        "text/html": "(4 rows affected)"
                    },
                    "metadata": {}
                },
                {
                    "output_type": "display_data",
                    "data": {
                        "text/html": "Total execution time: 00:00:00.047"
                    },
                    "metadata": {}
                }
            ],
            "execution_count": 5
        },
        {
            "cell_type": "code",
            "source": [
                "SELECT * from JunkDB_STL_May2023.alexs.Recipes"
            ],
            "metadata": {
                "language": "sql",
                "azdata_cell_guid": "676d6907-ff1c-48af-a4be-9eb2bf98df60"
            },
            "outputs": [
                {
                    "output_type": "display_data",
                    "data": {
                        "text/html": "(4 rows affected)"
                    },
                    "metadata": {}
                },
                {
                    "output_type": "display_data",
                    "data": {
                        "text/html": "Total execution time: 00:00:00.080"
                    },
                    "metadata": {}
                },
                {
                    "output_type": "execute_result",
                    "metadata": {},
                    "execution_count": 6,
                    "data": {
                        "application/vnd.dataresource+json": {
                            "schema": {
                                "fields": [
                                    {
                                        "name": "name"
                                    },
                                    {
                                        "name": "description"
                                    },
                                    {
                                        "name": "instructions"
                                    }
                                ]
                            },
                            "data": [
                                {
                                    "name": "Coffee",
                                    "description": "wake-up and Human",
                                    "instructions": "boil water...."
                                },
                                {
                                    "name": "Pizza",
                                    "description": "To lazy to cook but hungry",
                                    "instructions": "Call ModPizza and order for delivery"
                                },
                                {
                                    "name": "Pizza",
                                    "description": "Frozen",
                                    "instructions": "take pizza...."
                                },
                                {
                                    "name": "TatorTots",
                                    "description": "Frozen",
                                    "instructions": "place frozen...."
                                }
                            ]
                        },
                        "text/html": [
                            "<table>",
                            "<tr><th>name</th><th>description</th><th>instructions</th></tr>",
                            "<tr><td>Coffee</td><td>wake-up and Human</td><td>boil water....</td></tr>",
                            "<tr><td>Pizza</td><td>To lazy to cook but hungry</td><td>Call ModPizza and order for delivery</td></tr>",
                            "<tr><td>Pizza</td><td>Frozen</td><td>take pizza....</td></tr>",
                            "<tr><td>TatorTots</td><td>Frozen</td><td>place frozen....</td></tr>",
                            "</table>"
                        ]
                    }
                }
            ],
            "execution_count": 6
        },
        {
            "cell_type": "code",
            "source": [
                "UPDATE JunkDB_STL_May2023.alexs.Recipes\n",
                "SET instructions=REPLACE(instructions , 'ModPizza','Dominos')\n",
                "WHERE instructions LIKE '%ModPizza%'\n",
                "\n",
                "SELECT * from JunkDB_STL_May2023.alexs.Recipes"
            ],
            "metadata": {
                "language": "sql",
                "azdata_cell_guid": "ee52d97b-6d8c-4931-81a3-1604fc7f3a90"
            },
            "outputs": [
                {
                    "output_type": "display_data",
                    "data": {
                        "text/html": "(1 row affected)"
                    },
                    "metadata": {}
                },
                {
                    "output_type": "display_data",
                    "data": {
                        "text/html": "(4 rows affected)"
                    },
                    "metadata": {}
                },
                {
                    "output_type": "display_data",
                    "data": {
                        "text/html": "Total execution time: 00:00:00.050"
                    },
                    "metadata": {}
                },
                {
                    "output_type": "execute_result",
                    "metadata": {},
                    "execution_count": 8,
                    "data": {
                        "application/vnd.dataresource+json": {
                            "schema": {
                                "fields": [
                                    {
                                        "name": "name"
                                    },
                                    {
                                        "name": "description"
                                    },
                                    {
                                        "name": "instructions"
                                    }
                                ]
                            },
                            "data": [
                                {
                                    "name": "Coffee",
                                    "description": "wake-up and Human",
                                    "instructions": "boil water...."
                                },
                                {
                                    "name": "Pizza",
                                    "description": "To lazy to cook but hungry",
                                    "instructions": "Call Dominos and order for delivery"
                                },
                                {
                                    "name": "Pizza",
                                    "description": "Frozen",
                                    "instructions": "take pizza...."
                                },
                                {
                                    "name": "TatorTots",
                                    "description": "Frozen",
                                    "instructions": "place frozen...."
                                }
                            ]
                        },
                        "text/html": [
                            "<table>",
                            "<tr><th>name</th><th>description</th><th>instructions</th></tr>",
                            "<tr><td>Coffee</td><td>wake-up and Human</td><td>boil water....</td></tr>",
                            "<tr><td>Pizza</td><td>To lazy to cook but hungry</td><td>Call Dominos and order for delivery</td></tr>",
                            "<tr><td>Pizza</td><td>Frozen</td><td>take pizza....</td></tr>",
                            "<tr><td>TatorTots</td><td>Frozen</td><td>place frozen....</td></tr>",
                            "</table>"
                        ]
                    }
                }
            ],
            "execution_count": 8
        },
        {
            "cell_type": "code",
            "source": [
                "DELETE FROM JunkDB_STL_May2023.alexs.Recipes\n",
                "WHERE [description]='Frozen'\n",
                "SELECT * from JunkDB_STL_May2023.alexs.Recipes\n",
                ""
            ],
            "metadata": {
                "language": "sql",
                "azdata_cell_guid": "6336c70f-012c-4f69-93e2-f55a681d53ce"
            },
            "outputs": [
                {
                    "output_type": "display_data",
                    "data": {
                        "text/html": "(2 rows affected)"
                    },
                    "metadata": {}
                },
                {
                    "output_type": "display_data",
                    "data": {
                        "text/html": "(2 rows affected)"
                    },
                    "metadata": {}
                },
                {
                    "output_type": "display_data",
                    "data": {
                        "text/html": "Total execution time: 00:00:00.058"
                    },
                    "metadata": {}
                },
                {
                    "output_type": "execute_result",
                    "metadata": {},
                    "execution_count": 9,
                    "data": {
                        "application/vnd.dataresource+json": {
                            "schema": {
                                "fields": [
                                    {
                                        "name": "name"
                                    },
                                    {
                                        "name": "description"
                                    },
                                    {
                                        "name": "instructions"
                                    }
                                ]
                            },
                            "data": [
                                {
                                    "name": "Coffee",
                                    "description": "wake-up and Human",
                                    "instructions": "boil water...."
                                },
                                {
                                    "name": "Pizza",
                                    "description": "To lazy to cook but hungry",
                                    "instructions": "Call Dominos and order for delivery"
                                }
                            ]
                        },
                        "text/html": [
                            "<table>",
                            "<tr><th>name</th><th>description</th><th>instructions</th></tr>",
                            "<tr><td>Coffee</td><td>wake-up and Human</td><td>boil water....</td></tr>",
                            "<tr><td>Pizza</td><td>To lazy to cook but hungry</td><td>Call Dominos and order for delivery</td></tr>",
                            "</table>"
                        ]
                    }
                }
            ],
            "execution_count": 9
        }
    ]
}